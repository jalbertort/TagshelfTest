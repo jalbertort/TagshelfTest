{
 "cells": [
  {
   "cell_type": "markdown",
   "id": "3a015ccd",
   "metadata": {},
   "source": [
    "## 1. Escriba una implementación de conversión de las siguientes representaciones:\n",
    "#####    a. RGB a HSV\n",
    "#####    b. HSV a RGB\n",
    "### Consideraciones tomar en cuenta:\n",
    "#####    • Sin ramas (evaluaciones de condiciones).\n",
    "#####    • Preferiblemente utilizando instrucciones de SIMD.\n",
    "#####    • Que soporte un alto número de conversiones.\n",
    "#####    • Tenga en cuenta las opciones de diseño específicas para su elección de hardware."
   ]
  },
  {
   "cell_type": "code",
   "execution_count": 188,
   "id": "ef54036c",
   "metadata": {},
   "outputs": [],
   "source": [
    "import numpy as np\n",
    "import random as rd\n",
    "\n",
    "def rgb2hsv(rgb):\n",
    "    '''RGB2HSV Funtion :- Agregar las coordenas de RGB con \"[]\" \n",
    "    y separados con \",\", ejemplo  [255, 10, 10], Esta funcion \n",
    "    retornará el codigo hsv: son 3 valores de returno, \n",
    "    h en grado, s y v en porcientos'''\n",
    "    \n",
    "    # Convierte la lista de entrada a un array numpy y el RGB de rango [0..255] a [0..1]\n",
    "    rgb = np.array(rgb, dtype=float) / 255.0\n",
    "    \n",
    "    # Calcula el máximo y mínimo de los componentes RGB y el Delta\n",
    "    maxRgb = np.max(rgb, axis=-1)\n",
    "    minRgb = np.min(rgb, axis=-1)\n",
    "    \n",
    "    d = maxRgb - minRgb\n",
    "    \n",
    "    # Inicializa los valores HSV\n",
    "    h = np.zeros_like(maxRgb)\n",
    "    s = np.zeros_like(maxRgb)\n",
    "    v = maxRgb * 100.0\n",
    "    \n",
    "    # Creamos máscaras booleanas para identificar si los componentes Rojo, Verde y Azul son el valor máximo en sus respectivas posiciones.\n",
    "    non_zero_delta = d != 0\n",
    "    is_red_max = rgb[..., 0] == maxRgb\n",
    "    is_green_max = rgb[..., 1] == maxRgb\n",
    "    is_blue_max = rgb[..., 2] == maxRgb\n",
    "    \n",
    "    # Calcular la matiz H\n",
    "    h[is_red_max] = 60.0 * (((rgb[is_red_max, 1] - rgb[is_red_max, 2]) / d[is_red_max]) % 6) \n",
    "    h[is_green_max] = 60.0 * ((rgb[is_green_max, 2] - rgb[is_green_max, 0]) / d[is_green_max] + 2)\n",
    "    h[is_blue_max] = 60.0 * ((rgb[is_blue_max, 0] - rgb[is_blue_max, 1]) / d[is_blue_max] + 4)\n",
    "        \n",
    "    # Calcula la saturación (S)\n",
    "    s[non_zero_delta] = (d[non_zero_delta] / maxRgb[non_zero_delta]) * 100.0\n",
    "    \n",
    "    return [round(h.tolist()), round(s.tolist(), 1),  round(v, 1)]\n",
    "\n",
    "def hsv2rgb(hsv):\n",
    "    '''HSV2RGB Funtion :- Agregar las coordenas de HSV con \"[]\" \n",
    "    y separados con \",\", ejemplo  [350, 50, 60], \n",
    "    Esta funcion retornará el codigo rgb'''\n",
    "     \n",
    "    # Separando coordenadas del HSV\n",
    "    h, s, v = hsv[0], hsv[1] / 100, hsv[2] / 100\n",
    "    \n",
    "    # Confirmar y transformar H en rangos de [0..360]\n",
    "    h = np.where(h < 0, h + 360,\n",
    "                 np.where(h > 360, h - 360, h))\n",
    "    \n",
    "    # Calculos de variables para determinación de círculo\n",
    "    c = v * s\n",
    "    x = c * (1 - abs((h / 60) % 2 - 1))\n",
    "    m = v - c\n",
    "    \n",
    "    # Calcular la matriz prima de RGB \n",
    "    rgbc = np.where( (h >= 0) & (h < 60), [c, x, 0],\n",
    "                      np.where((h >= 60) & (h < 120),  [x, c, 0],\n",
    "                      np.where((h >= 120) & (h < 180), [0, c, x],\n",
    "                      np.where((h >= 180) & (h < 240), [0, x, c],\n",
    "                      np.where((h >= 240) & (h < 300), [x, 0, c], [c, 0, x])))))\n",
    "    \n",
    "    # Transformar el RGB primo en RGB\n",
    "    r = round((rgbc[0] + m) * 255)\n",
    "    g = round((rgbc[1] + m) * 255)\n",
    "    b = round((rgbc[2] + m) * 255) \n",
    "    \n",
    "    return [round(r), round(g), round(b)]"
   ]
  },
  {
   "cell_type": "markdown",
   "id": "901d76e0",
   "metadata": {},
   "source": [
    "### Ejemplos de uso RGB - HSV "
   ]
  },
  {
   "cell_type": "code",
   "execution_count": 189,
   "id": "caf0b66c",
   "metadata": {},
   "outputs": [
    {
     "name": "stdout",
     "output_type": "stream",
     "text": [
      "RGB: [181, 208, 157] to HSV: [92, 24.5, 81.6]\n",
      "RGB: [74, 236, 40] to HSV: [110, 83.1, 92.5]\n",
      "RGB: [243, 252, 229] to HSV: [83, 9.1, 98.8]\n",
      "RGB: [191, 174, 174] to HSV: [0, 8.9, 74.9]\n",
      "RGB: [63, 94, 164] to HSV: [222, 61.6, 64.3]\n",
      "RGB: [84, 50, 161] to HSV: [258, 68.9, 63.1]\n",
      "RGB: [152, 251, 246] to HSV: [177, 39.4, 98.4]\n",
      "RGB: [131, 227, 64] to HSV: [95, 71.8, 89.0]\n",
      "RGB: [229, 251, 24] to HSV: [66, 90.4, 98.4]\n",
      "RGB: [232, 190, 100] to HSV: [41, 56.9, 91.0]\n"
     ]
    }
   ],
   "source": [
    "cantColors = 10\n",
    "randomList = [[rd.randint(0,255) for _ in range(3)] for _ in range(cantColors)]\n",
    "\n",
    "for i in randomList:\n",
    "    hsv = rgb2hsv(i)\n",
    "    print(f\"RGB: {i} to HSV: {hsv}\")"
   ]
  },
  {
   "cell_type": "markdown",
   "id": "f9208751",
   "metadata": {},
   "source": [
    "### Ejemplos de uso HSV - RGB "
   ]
  },
  {
   "cell_type": "code",
   "execution_count": 190,
   "id": "5c94d6c4",
   "metadata": {},
   "outputs": [
    {
     "name": "stdout",
     "output_type": "stream",
     "text": [
      "HSV: [12, 3, 54] to RGB: [138, 134, 134]\n",
      "HSV: [187, 31, 28] to RGB: [49, 69, 71]\n",
      "HSV: [167, 9, 70] to RGB: [162, 178, 175]\n",
      "HSV: [147, 23, 69] to RGB: [135, 176, 154]\n",
      "HSV: [314, 34, 33] to RGB: [84, 56, 77]\n",
      "HSV: [174, 62, 86] to RGB: [83, 219, 206]\n",
      "HSV: [218, 82, 85] to RGB: [39, 104, 217]\n",
      "HSV: [107, 34, 5] to RGB: [9, 13, 8]\n",
      "HSV: [194, 13, 10] to RGB: [22, 25, 26]\n",
      "HSV: [161, 26, 25] to RGB: [47, 64, 59]\n"
     ]
    }
   ],
   "source": [
    "cantHSVs = 10\n",
    "listHSVs = []\n",
    "\n",
    "for _ in range(cantHSVs):\n",
    "    valorH = round(rd.uniform(0,360))\n",
    "    valorS = round(rd.uniform(0, 100))\n",
    "    valorV = round(rd.uniform(0, 100))\n",
    "    \n",
    "    listNew = [valorH, valorS, valorV]\n",
    "    listHSVs.append(listNew)\n",
    "\n",
    "for l in listHSVs:\n",
    "    rgb = hsv2rgb(l)\n",
    "    print(f\"HSV: {l} to RGB: {rgb}\")\n"
   ]
  }
 ],
 "metadata": {
  "kernelspec": {
   "display_name": "Python 3 (ipykernel)",
   "language": "python",
   "name": "python3"
  },
  "language_info": {
   "codemirror_mode": {
    "name": "ipython",
    "version": 3
   },
   "file_extension": ".py",
   "mimetype": "text/x-python",
   "name": "python",
   "nbconvert_exporter": "python",
   "pygments_lexer": "ipython3",
   "version": "3.11.5"
  }
 },
 "nbformat": 4,
 "nbformat_minor": 5
}
