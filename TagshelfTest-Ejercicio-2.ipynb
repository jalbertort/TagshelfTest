{
 "cells": [
  {
   "cell_type": "markdown",
   "id": "c0610a52",
   "metadata": {},
   "source": [
    "## 2. Dada la siguiente porción de data:\n",
    "##### • Escriba una función que retorne el valor dando las coordenadas (fila, columna).\n",
    "##### • Tome en consideración que su función debe devolver valores, que no están presente en la porción de data presentada.\n",
    "##### • Sin utilizar la tabla o su data como parte de la solución.\n",
    "##### • Sin utilizar ramas (evaluaciones de condiciones).\n",
    "##### • Mencione cualquier propiedad interesante de este dataset."
   ]
  },
  {
   "cell_type": "code",
   "execution_count": 1,
   "id": "fafd3126",
   "metadata": {},
   "outputs": [],
   "source": [
    "'''\n",
    "Notas:\n",
    "\n",
    "Tomar en cuenta que segun la porción de datos que recibí, analizando el patron, \n",
    "caí en conclusion que no necesariamente está desde el inicio , por lo cual, \n",
    "segun el patron, entendía que al inicio le faltaba un item de valor 0x00 que es el mismo que \n",
    "se repite al final de la porcion de dataset.\n",
    "\n",
    "Para poder entender esta data, primero identifiqué que se trataba de los primeros caracteres de \n",
    "valores hexadecimal con 0x agregado, por lo cual transforme los valores a enteros para poder entenderlos.\n",
    "\n",
    "Luego de analizar el comportamiento e investigar por internet sobre la secuencia \n",
    "que se estaba ejecutando para predecir futuros resultados, he dado con la secuencia (Moser–de Bruijn sequence)\n",
    "y a través de ella poder identificar el valor que necesito para generar la tabla \n",
    "especifica y extraer el valor en hexadecimal solicitado\n",
    "'''\n",
    "\n",
    "import pandas as pd\n",
    "\n",
    "# Creando la funcion del ejercicio 2\n",
    "def moserCode(f, c):\n",
    "    '''MOSERCODE Funtion :- Esta funcion devuelve el valor producto de la secuencia\n",
    "    Moser-de Bruijn, indicar las cordenadas (fila y columna) tomando en cuenta \n",
    "    que columnas soporta un rango de [1 - 16]'''\n",
    "    \n",
    "    # Creando las variables a utilizar para generar la tabla de secuencia\n",
    "    numCol = 16\n",
    "    cant = f * numCol\n",
    "    \n",
    "    # Aplicando la formula para generar la secuencia moser-de tomando en cuenta el desplazamiento de bit\n",
    "    moser = [sum(((n >> 2 * i) & 1) << i for i in range((n.bit_length() + 1) // 2)) for n in range(cant)]\n",
    "    \n",
    "    # Creando variables para estructura de tabla, con el objetivo de tener mejor lejibilidad de la data\n",
    "    numFil = len(moser) // numCol\n",
    "    columnas = [(i + 1) for i in range(numCol)]\n",
    "    df = pd.DataFrame(columns = columnas)\n",
    "    \n",
    "    # Introducción de la secuencia en la tabla\n",
    "    for i in range(numFil):\n",
    "        valorFila = moser[i * numCol: (i + 1) * numCol]\n",
    "        df.loc[i] = valorFila\n",
    "    \n",
    "    # Creando parametros para buscar un valor especifico, indicando f(fila) y c(columna)\n",
    "    valor = df.loc[(f - 1), (c)]\n",
    "    \n",
    "    # Transformando el dato int en hexadecimal\n",
    "    calc = hex(valor)[2:].zfill(2)\n",
    "    valorHex = \"0x\" + calc\n",
    "\n",
    "    return valorHex"
   ]
  },
  {
   "cell_type": "markdown",
   "id": "fb59c981",
   "metadata": {},
   "source": [
    "## Ejemplo de uso"
   ]
  },
  {
   "cell_type": "code",
   "execution_count": 2,
   "id": "6f6380db",
   "metadata": {},
   "outputs": [
    {
     "data": {
      "text/plain": [
       "'0x17'"
      ]
     },
     "execution_count": 2,
     "metadata": {},
     "output_type": "execute_result"
    }
   ],
   "source": [
    "result = moserCode(60, 8)\n",
    "result"
   ]
  }
 ],
 "metadata": {
  "kernelspec": {
   "display_name": "Python 3 (ipykernel)",
   "language": "python",
   "name": "python3"
  },
  "language_info": {
   "codemirror_mode": {
    "name": "ipython",
    "version": 3
   },
   "file_extension": ".py",
   "mimetype": "text/x-python",
   "name": "python",
   "nbconvert_exporter": "python",
   "pygments_lexer": "ipython3",
   "version": "3.11.5"
  }
 },
 "nbformat": 4,
 "nbformat_minor": 5
}
